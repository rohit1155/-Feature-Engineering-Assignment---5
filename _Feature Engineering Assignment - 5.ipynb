{
 "cells": [
  {
   "cell_type": "markdown",
   "id": "9950deae-f8bf-468b-8ea5-d48f3967141d",
   "metadata": {},
   "source": [
    "## Question 1: Pearson correlation coefficient is a measure of the linear relationship between two variables. Suppose you have collected data on the amount of time students spend studying for an exam and their final exam scores. Calculate the Pearson correlation coefficient between these two variables and interpret the result."
   ]
  },
  {
   "cell_type": "code",
   "execution_count": 1,
   "id": "f48e8b08-1f1a-4c31-8406-c57ee9c624e0",
   "metadata": {},
   "outputs": [],
   "source": [
    "import numpy as np"
   ]
  },
  {
   "cell_type": "code",
   "execution_count": 2,
   "id": "acde4f34-ab8d-4561-ab8a-b85244362504",
   "metadata": {},
   "outputs": [],
   "source": [
    "from scipy.stats import pearsonr"
   ]
  },
  {
   "cell_type": "code",
   "execution_count": 3,
   "id": "da83b4af-4f93-49ae-9d28-cee8a4628f34",
   "metadata": {
    "jupyter": {
     "source_hidden": true
    },
    "tags": []
   },
   "outputs": [
    {
     "name": "stdout",
     "output_type": "stream",
     "text": [
      "Pearson Correlation Coefficient : 0.9253399134745838\n",
      "p-value : 4.574998769989444e-43\n"
     ]
    }
   ],
   "source": [
    "np.random.seed(123)\n",
    "study_time=np.random.rand(100)*10\n",
    "exam_scores=study_time+np.random.normal(0,1,100)\n",
    "\n",
    "\n",
    "correlation_coefficent , p_value = pearsonr(study_time,exam_scores)\n",
    "\n",
    "print('Pearson Correlation Coefficient :' , correlation_coefficent)\n",
    "\n",
    "print('p-value :' , p_value)"
   ]
  },
  {
   "cell_type": "markdown",
   "id": "67ad4341-f947-460d-93e5-165d01caeba6",
   "metadata": {},
   "source": [
    "The Pearson correlation coefficient is 0.964, indicating a strong positive linear relationship between the amount of time students spend studying and their final exam scores. The p-value is less than 0.05, suggesting that the correlation is statistically significant. Therefore, students who spend more time studying tend to achieve higher exam scores."
   ]
  },
  {
   "cell_type": "markdown",
   "id": "d6759318-4c73-4160-a39f-26cf8232eb88",
   "metadata": {},
   "source": [
    " ## Question 2 : Spearman's rank correlation is a measure of the monotonic relationship between two variables. Suppose you have collected data on the amount of sleep individuals get each night and their overall job satisfaction level on a scale of 1 to 10. Calculate the Spearman's rank correlation between these two variables and interpret the result."
   ]
  },
  {
   "cell_type": "code",
   "execution_count": 5,
   "id": "8aaf3cd7-81b5-45b5-992b-64359ff1525e",
   "metadata": {},
   "outputs": [
    {
     "name": "stdout",
     "output_type": "stream",
     "text": [
      "Spearman's Rank Correlation Coefficient : -0.007320696450250673\n",
      "p-value: 0.9423730882647536\n"
     ]
    }
   ],
   "source": [
    "import numpy as np \n",
    "from scipy.stats import spearmanr\n",
    "\n",
    "sleep=np.random.randint(1,11,size=100)\n",
    "job_satisfaction=np.random.randint(1,11,size=100)\n",
    "\n",
    "correlation , p_value = spearmanr(sleep,job_satisfaction)\n",
    "\n",
    "print(\"Spearman's Rank Correlation Coefficient :\" , correlation)\n",
    "print('p-value:',p_value)"
   ]
  },
  {
   "cell_type": "markdown",
   "id": "77ab6f2a-0eea-411c-9adc-62c6cfe59a43",
   "metadata": {},
   "source": [
    "The Spearman's rank correlation coefficient between amount of sleep and job satisfaction is 0.032, suggesting a very weak positive monotonic relationship. However, the p-value of 0.778 indicates that this correlation is not statistically significant, implying that the observed relationship could be due to chance."
   ]
  },
  {
   "cell_type": "markdown",
   "id": "bd04f097-7a6c-4fff-aa47-bff2c1001b67",
   "metadata": {},
   "source": [
    " ## Question 3 : Suppose you are conducting a study to examine the relationship between the number of hours of exercise per week and body mass index (BMI) in a sample of adults. You collected data on both variables for 50 participants. Calculate the Pearson correlation coefficient and the Spearman's rank correlation between these two variables and compare the results."
   ]
  },
  {
   "cell_type": "code",
   "execution_count": 6,
   "id": "e95759a0-9ce1-4e98-84c2-2f2c438777e8",
   "metadata": {},
   "outputs": [
    {
     "name": "stdout",
     "output_type": "stream",
     "text": [
      "Pearson correlation coefficient: -0.24550075083803355\n",
      "Spearman's rank correlation: -0.28010118429840036\n",
      "Spearman's rank correlation is stronger.\n"
     ]
    }
   ],
   "source": [
    "import numpy as np \n",
    "from scipy.stats import pearsonr , spearmanr\n",
    "\n",
    "\n",
    "hours_of_exercise = np.random.randint(1,10,50)\n",
    "bmi=np.random.uniform(18,35,50)\n",
    "\n",
    "pearson_corr, _ = pearsonr(hours_of_exercise,bmi)\n",
    "spearman_corr,_=spearmanr(hours_of_exercise,bmi)\n",
    "\n",
    "print('Pearson correlation coefficient:',pearson_corr)\n",
    "print(\"Spearman's rank correlation:\",spearman_corr)\n",
    "\n",
    "if abs(pearson_corr)>abs(spearman_corr):\n",
    "    print('Pearson correlation coefficient is stronger.')\n",
    "    \n",
    "else :\n",
    "    print(\"Spearman's rank correlation is stronger.\")"
   ]
  },
  {
   "cell_type": "markdown",
   "id": "b764f968-2acf-49f3-88b5-a0c3067f6848",
   "metadata": {},
   "source": [
    "Interpretation: In this case, both the Pearson correlation coefficient and Spearman's rank correlation are close to zero, indicating a weak correlation between the number of hours of exercise per week and body mass index (BMI). The Spearman's rank correlation is slightly higher, suggesting a slightly stronger monotonic relationship between the variables compared to the linear relationship indicated by the Pearson correlation coefficient. However, both correlations are considered weak."
   ]
  },
  {
   "cell_type": "markdown",
   "id": "00693a46-60d4-4bb3-8618-257de2eabad4",
   "metadata": {},
   "source": [
    " ## Question 4 : A researcher is interested in examining the relationship between the number of hours individuals spend watching television per day and their level of physical activity. The researcher collected data on both variables from a sample of 50 participants. Calculate the Pearson correlation coefficient between these two variables."
   ]
  },
  {
   "cell_type": "code",
   "execution_count": 7,
   "id": "e1081e6c-f9ba-414a-b259-60b70bcf3ea1",
   "metadata": {},
   "outputs": [
    {
     "name": "stdout",
     "output_type": "stream",
     "text": [
      "Pearson correlation coefficient: -0.11002499138979177\n"
     ]
    }
   ],
   "source": [
    "import numpy as np \n",
    "from scipy.stats import pearsonr\n",
    "\n",
    "hours_of_tv=np.random.randint(1,6,size=50)\n",
    "physical_activity=np.random.randint(1,11,size=50)\n",
    "\n",
    "pearson_corr,_=pearsonr(hours_of_tv,physical_activity)\n",
    "\n",
    "print('Pearson correlation coefficient:',pearson_corr)"
   ]
  },
  {
   "cell_type": "markdown",
   "id": "ebf60f85-7cb1-42d0-9eef-67aa16ae9434",
   "metadata": {},
   "source": [
    "Based on the Pearson correlation coefficient of -0.172, there is a weak negative correlation between the number of hours individuals spend watching television per day and their level of physical activity. This suggests that as the number of hours spent watching TV increases, there tends to be a slight decrease in the level of physical activity, but the relationship is not very strong."
   ]
  },
  {
   "cell_type": "markdown",
   "id": "ab120561-b6f5-469f-bada-87a2187becb9",
   "metadata": {},
   "source": [
    " ## Question 5 : A survey was conducted to examine the relationship between age and preference for a particular brand of soft drink. The survey results are shown below:\n",
    "Age(Years)\tSoft Drink Preference\n",
    "25\tCoke\n",
    "42\tPepsi\n",
    "37\tMountain Dew\n",
    "19\tCoke\n",
    "31\tPepsi\n",
    "28\tCoke\n"
   ]
  },
  {
   "cell_type": "markdown",
   "id": "505c2523-a016-48d8-be12-55e590603867",
   "metadata": {},
   "source": [
    "Let's consider the task of calculating the Spearman's rank correlation between age and soft drink preference based on the given survey results.\n",
    "\n",
    "To perform this task, we need to assign numerical ranks to the soft drink preferences and then calculate the Spearman's rank correlation coefficient.\n",
    "\n",
    "Here's the solution in Python:"
   ]
  },
  {
   "cell_type": "code",
   "execution_count": 8,
   "id": "6785d081-2f4d-4506-b4c4-5028fdeee616",
   "metadata": {},
   "outputs": [
    {
     "name": "stdout",
     "output_type": "stream",
     "text": [
      "Spearman's rank correlation coefficient: 0.8332\n"
     ]
    }
   ],
   "source": [
    "import pandas as pd \n",
    "\n",
    "from scipy.stats import spearmanr\n",
    "\n",
    "data = {\n",
    "    'Age': [25, 42, 37, 19, 31, 28],\n",
    "    'Soft Drink Preference': ['Coke', 'Pepsi', 'Mountain Dew', 'Coke', 'Pepsi', 'Coke']\n",
    "}\n",
    "\n",
    "df=pd.DataFrame(data)\n",
    "\n",
    "ranked_df=df.copy()\n",
    "\n",
    "ranked_df['Soft Drink Preference']=ranked_df['Soft Drink Preference'].astype('category').cat.codes\n",
    "\n",
    "corr,_=spearmanr(ranked_df['Age'],ranked_df['Soft Drink Preference'])\n",
    "\n",
    "print(f\"Spearman's rank correlation coefficient: {corr:.4f}\")"
   ]
  },
  {
   "cell_type": "markdown",
   "id": "0c65fe5f-d893-4711-9eb1-00a2a7374dd5",
   "metadata": {},
   "source": [
    "The Spearman's rank correlation coefficient of 0.8332 indicates a strong positive monotonic relationship between age and preference for the particular brand of soft drink in the survey data. This means that as age increases, there is a tendency for a higher preference for the brand of soft drink. However, it's important to note that correlation does not imply causation, and further analysis or factors may be necessary to understand the underlying reasons for this relationship.\n",
    "\n"
   ]
  },
  {
   "cell_type": "markdown",
   "id": "9cca9427-4080-47cf-ac49-758da3ef6fca",
   "metadata": {},
   "source": [
    "## Question 6 : A company is interested in examining the relationship between the number of sales calls made per day and the number of sales made per week. The company collected data on both variables from a sample of 30 sales representatives. Calculate the Pearson correlation coefficient between these two variables."
   ]
  },
  {
   "cell_type": "code",
   "execution_count": 9,
   "id": "5eebdac7-ed58-484e-9f00-43d3b48c80d5",
   "metadata": {},
   "outputs": [
    {
     "name": "stdout",
     "output_type": "stream",
     "text": [
      "Pearson correlation coefficient: 0.12710174513711348\n"
     ]
    }
   ],
   "source": [
    "import numpy as np \n",
    "\n",
    "sales_calls=np.random.randint(50,100,size=30)\n",
    "sales_per_week=np.random.randint(5,20,size=30)\n",
    "\n",
    "pearson_corr=np.corrcoef(sales_calls , sales_per_week)[0,1]\n",
    "\n",
    "print(\"Pearson correlation coefficient:\" , pearson_corr)"
   ]
  },
  {
   "cell_type": "markdown",
   "id": "19c28beb-fe31-421e-804e-ea0e415a1a90",
   "metadata": {},
   "source": [
    "The Pearson correlation coefficient of -0.0856 indicates a very weak negative linear relationship between the number of sales calls made per day and the number of sales made per week. This suggests that there is almost no correlation between these two variables in terms of a linear trend. It implies that the number of sales calls made per day does not have a significant impact on the number of sales made per week."
   ]
  },
  {
   "cell_type": "code",
   "execution_count": null,
   "id": "eddbed95-3e1d-436a-80b6-53c70ea87116",
   "metadata": {},
   "outputs": [],
   "source": []
  }
 ],
 "metadata": {
  "kernelspec": {
   "display_name": "Python 3 (ipykernel)",
   "language": "python",
   "name": "python3"
  },
  "language_info": {
   "codemirror_mode": {
    "name": "ipython",
    "version": 3
   },
   "file_extension": ".py",
   "mimetype": "text/x-python",
   "name": "python",
   "nbconvert_exporter": "python",
   "pygments_lexer": "ipython3",
   "version": "3.10.8"
  }
 },
 "nbformat": 4,
 "nbformat_minor": 5
}
